{
 "cells": [
  {
   "cell_type": "code",
   "execution_count": 15,
   "metadata": {},
   "outputs": [],
   "source": [
    "import os\n",
    "import os.path\n",
    "import PIL\n",
    "from PIL import Image\n",
    "import cv2\n",
    "import numpy as np"
   ]
  },
  {
   "cell_type": "code",
   "execution_count": 41,
   "metadata": {},
   "outputs": [],
   "source": [
    "DIR = 'output/train/happy/' #directory\n",
    "glass_img = cv2.imread('glass_mask.png')\n",
    "# SAVE_DIR = 'output/' #output directory"
   ]
  },
  {
   "cell_type": "code",
   "execution_count": 42,
   "metadata": {},
   "outputs": [],
   "source": [
    "face_cascade = cv2.CascadeClassifier(cv2.data.haarcascades + 'haarcascade_frontalface_default.xml')\n",
    "eye_cascade = cv2.CascadeClassifier(cv2.data.haarcascades + 'haarcascade_eye.xml')"
   ]
  },
  {
   "cell_type": "code",
   "execution_count": 44,
   "metadata": {},
   "outputs": [
    {
     "name": "stdout",
     "output_type": "stream",
     "text": [
      "[(342, 386), (204, 380), (221, 524), (337, 515)]\n",
      "[(206, 382), (225, 530), (346, 388)]\n",
      "[(192, 384), (358, 383)]\n",
      "[(211, 387), (344, 382)]\n",
      "[(353, 386), (219, 533), (198, 383)]\n",
      "[(222, 385), (336, 382), (234, 524)]\n",
      "[(349, 380), (218, 526), (197, 380), (335, 527)]\n",
      "[(207, 382), (227, 534), (253, 470), (341, 381)]\n",
      "[(343, 381), (201, 380), (338, 526), (217, 526), (254, 483)]\n",
      "[(342, 384), (211, 385), (291, 539)]\n",
      "[(330, 385), (224, 523), (208, 381), (352, 383), (235, 380)]\n",
      "[(345, 380), (207, 383), (247, 464), (274, 500)]\n",
      "[(200, 380), (219, 530), (339, 380)]\n",
      "[(353, 514), (224, 518), (235, 520), (343, 376), (206, 388)]\n",
      "[(214, 380), (226, 516), (334, 522), (339, 384)]\n",
      "[(347, 380), (201, 385), (244, 525), (225, 525), (331, 524)]\n",
      "[(196, 383), (357, 383), (217, 544), (338, 542)]\n",
      "[(345, 385), (207, 384), (227, 521), (342, 520)]\n",
      "[(207, 375), (213, 528), (348, 382)]\n",
      "[(251, 471), (205, 378), (221, 518), (341, 382), (331, 520)]\n",
      "[(200, 381), (354, 379), (220, 534)]\n",
      "[(352, 380), (202, 381), (249, 479)]\n",
      "[(234, 383), (220, 536), (205, 378), (347, 387)]\n",
      "[(343, 376), (200, 380), (339, 533), (224, 537)]\n",
      "[(215, 379), (246, 477), (208, 524), (325, 384)]\n",
      "[(334, 384), (208, 383)]\n",
      "[(352, 380), (210, 535), (191, 384)]\n",
      "[(357, 378), (198, 377)]\n",
      "[(345, 382), (211, 379), (342, 527), (120, 413)]\n",
      "[(204, 380), (215, 526), (340, 529), (348, 382)]\n",
      "[(198, 385), (341, 379)]\n",
      "[(351, 378), (226, 537), (202, 383), (254, 481), (342, 528)]\n",
      "[(347, 381), (351, 527), (200, 378)]\n",
      "[(208, 383), (346, 381), (227, 527)]\n",
      "[(213, 379), (348, 384), (229, 529)]\n",
      "[(209, 374), (215, 381), (232, 522), (210, 528), (344, 382)]\n",
      "[(345, 382), (199, 385), (210, 534), (233, 540)]\n",
      "[(182, 526), (346, 380), (198, 386)]\n",
      "[(263, 468), (343, 380), (210, 382), (240, 529)]\n",
      "[(219, 378), (349, 386), (224, 521), (329, 525)]\n",
      "[(216, 513), (339, 381), (209, 380)]\n",
      "[(208, 380), (315, 527), (218, 522), (340, 388)]\n",
      "[(220, 380), (345, 386), (330, 524)]\n",
      "[(209, 380), (345, 384), (338, 537), (224, 530)]\n",
      "[(204, 376), (341, 352), (117, 455), (346, 386), (211, 528)]\n",
      "[(210, 379), (341, 382), (245, 524), (328, 523), (223, 522)]\n",
      "[(342, 386), (208, 379)]\n",
      "[(212, 365), (335, 379)]\n",
      "[(344, 384), (207, 378)]\n",
      "[(353, 381), (202, 385)]\n",
      "[(341, 382), (330, 379), (210, 369)]\n",
      "[(211, 382), (355, 385)]\n",
      "[(206, 381), (352, 383)]\n",
      "[(449, 449), (207, 380), (346, 380)]\n"
     ]
    },
    {
     "ename": "ValueError",
     "evalue": "could not broadcast input array from shape (181,520,3) into shape (181,485,3)",
     "output_type": "error",
     "traceback": [
      "\u001b[1;31m---------------------------------------------------------------------------\u001b[0m",
      "\u001b[1;31mValueError\u001b[0m                                Traceback (most recent call last)",
      "\u001b[1;32m<ipython-input-44-0b7cb18346a0>\u001b[0m in \u001b[0;36m<module>\u001b[1;34m\u001b[0m\n\u001b[0;32m     34\u001b[0m         \u001b[1;31m# Slice the height, width of the overlay image.\u001b[0m\u001b[1;33m\u001b[0m\u001b[1;33m\u001b[0m\u001b[1;33m\u001b[0m\u001b[0m\n\u001b[0;32m     35\u001b[0m         \u001b[0mh\u001b[0m\u001b[1;33m,\u001b[0m \u001b[0mw\u001b[0m \u001b[1;33m=\u001b[0m \u001b[0moverlay_glasses\u001b[0m\u001b[1;33m.\u001b[0m\u001b[0mshape\u001b[0m\u001b[1;33m[\u001b[0m\u001b[1;33m:\u001b[0m\u001b[1;36m2\u001b[0m\u001b[1;33m]\u001b[0m\u001b[1;33m\u001b[0m\u001b[1;33m\u001b[0m\u001b[0m\n\u001b[1;32m---> 36\u001b[1;33m         \u001b[0moverlay_img\u001b[0m\u001b[1;33m[\u001b[0m\u001b[0mint\u001b[0m\u001b[1;33m(\u001b[0m\u001b[0my\u001b[0m\u001b[1;33m)\u001b[0m\u001b[1;33m:\u001b[0m\u001b[0mint\u001b[0m\u001b[1;33m(\u001b[0m\u001b[0my\u001b[0m \u001b[1;33m+\u001b[0m \u001b[0mh\u001b[0m\u001b[1;33m)\u001b[0m\u001b[1;33m,\u001b[0m \u001b[0mint\u001b[0m\u001b[1;33m(\u001b[0m\u001b[0mx\u001b[0m\u001b[1;33m)\u001b[0m\u001b[1;33m:\u001b[0m\u001b[0mint\u001b[0m\u001b[1;33m(\u001b[0m\u001b[0mx\u001b[0m \u001b[1;33m+\u001b[0m \u001b[0mw\u001b[0m\u001b[1;33m)\u001b[0m\u001b[1;33m]\u001b[0m \u001b[1;33m=\u001b[0m \u001b[0moverlay_glasses\u001b[0m\u001b[1;33m\u001b[0m\u001b[1;33m\u001b[0m\u001b[0m\n\u001b[0m\u001b[0;32m     37\u001b[0m \u001b[1;33m\u001b[0m\u001b[0m\n\u001b[0;32m     38\u001b[0m         \u001b[1;31m# Create a mask and generate it's inverse.\u001b[0m\u001b[1;33m\u001b[0m\u001b[1;33m\u001b[0m\u001b[1;33m\u001b[0m\u001b[0m\n",
      "\u001b[1;31mValueError\u001b[0m: could not broadcast input array from shape (181,520,3) into shape (181,485,3)"
     ]
    }
   ],
   "source": [
    "for file in os.listdir(DIR):\n",
    "    image = cv2.imread(os.path.join(DIR,file))\n",
    "    gray = cv2.cvtColor(image, cv2.COLOR_BGR2GRAY)\n",
    "    centers = []\n",
    "    faces = face_cascade.detectMultiScale(gray, 1.3, 5)\n",
    "    # iterating over the face detected\n",
    "    for (x, y, w, h) in faces:\n",
    "\n",
    "        # create two Regions of Interest.\n",
    "        roi_gray = gray[y:y + h, x:x + w]\n",
    "        roi_color = image[y:y + h, x:x + w]\n",
    "        eyes = eye_cascade.detectMultiScale(roi_gray)\n",
    "\n",
    "        # Store the coordinates of eyes in the image to the 'center' array\n",
    "        for (ex, ey, ew, eh) in eyes:\n",
    "            centers.append((x + int(ex + 0.5 * ew), y + int(ey + 0.5 * eh)))\n",
    "\n",
    "    if len(centers) > 1:\n",
    "        # change the given value of 2.15 according to the size of the detected face\n",
    "        print(centers)\n",
    "        glasses_width = 2.15 * abs(centers[1][0] - centers[0][0])\n",
    "        overlay_img = np.ones(image.shape, np.uint8) * 255\n",
    "        h, w = glass_img.shape[:2]\n",
    "        scaling_factor = glasses_width / w\n",
    "\n",
    "        overlay_glasses = cv2.resize(glass_img, None, fx=scaling_factor, fy=scaling_factor, interpolation=cv2.INTER_AREA)\n",
    "\n",
    "        x = centers[0][0] if centers[0][0] < centers[1][0] else centers[1][0]\n",
    "\n",
    "        # The x and y variables below depend upon the size of the detected face.\n",
    "        x -= 0.25 * overlay_glasses.shape[1]\n",
    "        y += 1.1 * overlay_glasses.shape[0]\n",
    "\n",
    "        # Slice the height, width of the overlay image.\n",
    "        h, w = overlay_glasses.shape[:2]\n",
    "        overlay_img[int(y):int(y + h), int(x):int(x + w)] = overlay_glasses\n",
    "\n",
    "        # Create a mask and generate it's inverse.\n",
    "        gray_glasses = cv2.cvtColor(overlay_img, cv2.COLOR_BGR2GRAY)\n",
    "        ret, mask = cv2.threshold(gray_glasses, 110, 255, cv2.THRESH_BINARY)\n",
    "        mask_inv = cv2.bitwise_not(mask)\n",
    "        temp = cv2.bitwise_and(image, image, mask=mask)\n",
    "\n",
    "        temp2 = cv2.bitwise_and(overlay_img, overlay_img, mask=mask_inv)\n",
    "        final_img = cv2.add(temp, temp2)\n",
    "        \n",
    "        #save the new images in new dir\n",
    "        cv2.imwrite(os.path.join(DIR,file), final_img)\n",
    "        centers.clear()\n",
    "        \n",
    "    \n",
    "    "
   ]
  },
  {
   "cell_type": "code",
   "execution_count": null,
   "metadata": {},
   "outputs": [],
   "source": []
  }
 ],
 "metadata": {
  "kernelspec": {
   "display_name": "Python 3",
   "language": "python",
   "name": "python3"
  },
  "language_info": {
   "codemirror_mode": {
    "name": "ipython",
    "version": 3
   },
   "file_extension": ".py",
   "mimetype": "text/x-python",
   "name": "python",
   "nbconvert_exporter": "python",
   "pygments_lexer": "ipython3",
   "version": "3.7.7"
  }
 },
 "nbformat": 4,
 "nbformat_minor": 4
}
